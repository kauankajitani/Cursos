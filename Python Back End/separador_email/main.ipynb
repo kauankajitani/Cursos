{
 "cells": [
  {
   "cell_type": "markdown",
   "metadata": {},
   "source": [
    "Descrição\n",
    "Os domínios de email são essenciais para categorizar e identificar a origem dos contatos, facilitando a segmentação e análise dos dados. Sabendo disso, sua função será receber uma string contendo múltiplos emails separados por ponto e vírgula e retornar uma lista contendo apenas os domínios de cada um desses emails.\n",
    "\n",
    "Entrada\n",
    "A entrada deve receber uma string contendo emails separados por ponto e vírgula: \"email;email;email;...\". Cada email é uma string.\n",
    "\n",
    "Saída\n",
    "Deverá retornar uma lista de strings com os domínios dos emails.\n",
    "\n",
    "Exemplos\n",
    "\n",
    "Entrada :                                                  Saída : \n",
    "ana@example.com;bob@test.com\t                                  ['example.com', 'test.com']\n",
    "carlos@empresa.com;maria@web.com\t                              ['empresa.com', 'web.com']\n",
    "pedro@mail.com                                                    ['mail.com']"
   ]
  },
  {
   "cell_type": "code",
   "execution_count": 17,
   "metadata": {},
   "outputs": [
    {
     "name": "stdout",
     "output_type": "stream",
     "text": [
      "['empresa.com', 'web.com']\n"
     ]
    }
   ],
   "source": [
    "# Recebe a entrada e armazena na variável \"entrada\"\n",
    "entrada = 'carlos@empresa.com;maria@web.com'\n",
    "\n",
    "# Função reponsável por extrair os domínios dos emails\n",
    "def extrair_dominios(emails):\n",
    "    # Separa os emails por ponto e vírgula\n",
    "    lista_emails = emails.split(';')\n",
    "    \n",
    "    # TODO: Implemente a lógica necessária para extrair os domínios\n",
    "    dominios = []\n",
    "    for email in lista_emails: \n",
    "        separador  = email.split('@')\n",
    "        dominio_email = separador[1]\n",
    "        dominios.append(dominio_email)\n",
    "    return dominios\n",
    "\n",
    "# Imprime a lista de strings com os domínios\n",
    "print(extrair_dominios(entrada))"
   ]
  }
 ],
 "metadata": {
  "kernelspec": {
   "display_name": "base",
   "language": "python",
   "name": "python3"
  },
  "language_info": {
   "codemirror_mode": {
    "name": "ipython",
    "version": 3
   },
   "file_extension": ".py",
   "mimetype": "text/x-python",
   "name": "python",
   "nbconvert_exporter": "python",
   "pygments_lexer": "ipython3",
   "version": "3.11.7"
  }
 },
 "nbformat": 4,
 "nbformat_minor": 2
}
