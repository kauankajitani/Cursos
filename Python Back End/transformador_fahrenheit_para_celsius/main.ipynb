{
 "cells": [
  {
   "cell_type": "markdown",
   "metadata": {},
   "source": [
    "Descrição\n",
    "Você está desenvolvendo um sistema de monitoramento de temperaturas para uma estação meteorológica. O seu script deve processar os dados brutos de temperaturas e converter esses dados de Celsius para Fahrenheit.\n",
    "\n",
    "Para converter uma temperatura de Celsius para Fahrenheit, utiliza-se a fórmula matemática:\n",
    "\n",
    "TF = (TC × 9/5) + 32\n",
    "\n",
    "Onde:\n",
    "\n",
    "TF representa a temperatura em graus Fahrenheit,\n",
    "TC representa a temperatura em graus Celsius.\n",
    "\n",
    "Entrada\n",
    "A entrada deve receber uma string com valores numéricos separados por “,” (vírgula) representando as temperaturas em graus Celsius.\n",
    "\n",
    "Saída\n",
    "Deverá retornar uma lista de valores numéricos representando as temperaturas convertidas para Fahrenheit.\n",
    "\n",
    "Exemplos\n",
    "A tabela abaixo apresenta exemplos com alguns dados de entrada e suas respectivas saídas esperadas. Certifique-se de testar seu programa com esses exemplos e com outros casos possíveis.\n",
    "\n",
    "\n",
    "Entrada         Saída\n",
    "0,10,20,30,40\t[32.0, 50.0, 68.0, 86.0, 104.0]\n",
    "-5,-15,5,15,25\t[23.0, 5.0, 41.0, 59.0, 77.0]\n",
    "12,25,30,18,5\t[53.6, 77.0, 86.0, 64.4, 41.0]"
   ]
  },
  {
   "cell_type": "code",
   "execution_count": 5,
   "metadata": {},
   "outputs": [
    {
     "name": "stdout",
     "output_type": "stream",
     "text": [
      "[32.0, 50.0, 68.0, 86.0, 104.0]\n"
     ]
    }
   ],
   "source": [
    "# Recebe a entrada do usuário como uma string e divide essa string nos caracteres ',' (vírgula),\n",
    "temperaturas_celsius = input().split(',')\n",
    "\n",
    "# função chamada converter_celsius_para_fahrenheit que recebe uma lista de strings\n",
    "def converter_celsius_para_fahrenheit(temperaturas_celsius):\n",
    "    temperaturas_celsius = [float(temp) for temp in temperaturas_celsius]\n",
    "    \n",
    "    # TODO: Calcule as temperaturas em Fahrenheit para cada temperatura em Celsius convertida para float\n",
    "    temperaturas_fahrenheit = []\n",
    "    for temperatura in temperaturas_celsius : \n",
    "      conversor = ((temperatura * 9/5) + 32)\n",
    "      temperaturas_fahrenheit.append(conversor)\n",
    "    return temperaturas_fahrenheit\n",
    "\n",
    "# Imprime o resultado das temperaturas convertidas para Fahrenheit.\n",
    "print(converter_celsius_para_fahrenheit(temperaturas_celsius))"
   ]
  }
 ],
 "metadata": {
  "kernelspec": {
   "display_name": "base",
   "language": "python",
   "name": "python3"
  },
  "language_info": {
   "codemirror_mode": {
    "name": "ipython",
    "version": 3
   },
   "file_extension": ".py",
   "mimetype": "text/x-python",
   "name": "python",
   "nbconvert_exporter": "python",
   "pygments_lexer": "ipython3",
   "version": "3.11.7"
  }
 },
 "nbformat": 4,
 "nbformat_minor": 2
}
