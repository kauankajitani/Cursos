{
 "cells": [
  {
   "cell_type": "markdown",
   "metadata": {},
   "source": [
    "Descrição\n",
    "Você está desenvolvendo um sistema que integra com uma API de dados transacionais, onde as datas são fornecidas no formato \"DD-MM-YYYY\". Sua tarefa é processar essa lista de datas e transformá-las para o formato internacional \"YYYY/MM/DD\".\n",
    "\n",
    "Entrada\n",
    "A entrada deve receber uma string contendo datas separadas por ponto e vírgula: \"DD-MM-YYYY;DD-MM-YYYY;...\". Cada data é uma string.\n",
    "\n",
    "Saída\n",
    "Deverá retornar uma lista de strings contendo as datas no formato \"YYYY/MM/DD\".\n",
    "\n",
    "Exemplos\n",
    "A tabela abaixo apresenta exemplos com alguns dados de entrada e suas respectivas saídas esperadas. Certifique-se de testar seu programa com esses exemplos e com outros casos possíveis.\n",
    "\n",
    "Entrada\t                 Saída\n",
    "01-01-2020;02-02-2021\t['2020/01/01', '2021/02/02']\n",
    "15-05-1999;23-11-2003\t['1999/05/15', '2003/11/23']\n",
    "31-12-2022\t            ['2022/12/31']"
   ]
  },
  {
   "cell_type": "code",
   "execution_count": 1,
   "metadata": {},
   "outputs": [
    {
     "name": "stdout",
     "output_type": "stream",
     "text": [
      "['2020/01/01', '2021/02/02']\n"
     ]
    }
   ],
   "source": [
    "# Recebe a entrada e armazena na variável \"entrada\"\n",
    "entrada = '01-01-2020;02-02-2021'\n",
    "\n",
    "# Função responsável por receber as datas e transformar cada data para o formato \"YYYY/MM/DD\"\n",
    "def transformar_datas(datas):\n",
    "    # Divide a string de entrada nas datas individuais\n",
    "    datas_lista = datas.split(';')\n",
    "    \n",
    "    datas_transformadas = []\n",
    "    \n",
    "    # TODO: Implemente a lógica necessária para formatar as datas\n",
    "    for data in datas_lista:\n",
    "        dia, mes, ano = data.split('-')\n",
    "        nova_data = f\"{ano}/{mes}/{dia}\"\n",
    "        datas_transformadas.append(nova_data)\n",
    "        \n",
    "    return datas_transformadas\n",
    "    \n",
    "# Imprime a lista de datas formatadas\n",
    "print(transformar_datas(entrada))"
   ]
  }
 ],
 "metadata": {
  "kernelspec": {
   "display_name": "base",
   "language": "python",
   "name": "python3"
  },
  "language_info": {
   "codemirror_mode": {
    "name": "ipython",
    "version": 3
   },
   "file_extension": ".py",
   "mimetype": "text/x-python",
   "name": "python",
   "nbconvert_exporter": "python",
   "pygments_lexer": "ipython3",
   "version": "3.11.7"
  }
 },
 "nbformat": 4,
 "nbformat_minor": 2
}
